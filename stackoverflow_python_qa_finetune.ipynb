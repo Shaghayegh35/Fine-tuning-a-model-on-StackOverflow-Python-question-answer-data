{
 "cells": [
  {
   "cell_type": "code",
   "execution_count": 1,
   "id": "d41ef7ae",
   "metadata": {},
   "outputs": [],
   "source": [
    "from google.cloud import aiplatform\n",
    "from google.auth import default"
   ]
  },
  {
   "cell_type": "code",
   "execution_count": 2,
   "id": "be3dd867",
   "metadata": {},
   "outputs": [],
   "source": [
    "credentials, detected_project = default()"
   ]
  },
  {
   "cell_type": "code",
   "execution_count": 3,
   "id": "7e1ec519",
   "metadata": {},
   "outputs": [
    {
     "name": "stdout",
     "output_type": "stream",
     "text": [
      "✅ Connected to: shaghayegh-vertex-ai-lab | ADC project: shaghayegh-vertex-ai-lab\n"
     ]
    }
   ],
   "source": [
    "PROJECT_ID = \"shaghayegh-vertex-ai-lab\"   \n",
    "REGION = \"us-central1\"\n",
    "\n",
    "aiplatform.init(project=PROJECT_ID, location=REGION, credentials=credentials)\n",
    "print(\"✅ Connected to:\", PROJECT_ID, \"| ADC project:\", detected_project)"
   ]
  },
  {
   "cell_type": "code",
   "execution_count": 4,
   "id": "bf4c63c5",
   "metadata": {},
   "outputs": [],
   "source": [
    "import vertexai"
   ]
  },
  {
   "cell_type": "code",
   "execution_count": 5,
   "id": "6d7f1936",
   "metadata": {},
   "outputs": [],
   "source": [
    "vertexai.init(project = PROJECT_ID,\n",
    "              location = REGION,\n",
    "              credentials = credentials)"
   ]
  },
  {
   "cell_type": "markdown",
   "id": "bf8d5c38",
   "metadata": {},
   "source": [
    "Import BigQuery to use as your data warehouse."
   ]
  },
  {
   "cell_type": "code",
   "execution_count": 6,
   "id": "9cd3fac6",
   "metadata": {},
   "outputs": [],
   "source": [
    "from google.cloud import bigquery"
   ]
  },
  {
   "cell_type": "code",
   "execution_count": 7,
   "id": "df1da1d8",
   "metadata": {},
   "outputs": [],
   "source": [
    "bq_client = bigquery.Client(project=PROJECT_ID,\n",
    "                            credentials = credentials)"
   ]
  },
  {
   "cell_type": "markdown",
   "id": "c3e81094",
   "metadata": {},
   "source": [
    "# using Stack Overflow Data on BigQuery Public Datasets."
   ]
  },
  {
   "cell_type": "code",
   "execution_count": 9,
   "id": "f7b9cce0",
   "metadata": {},
   "outputs": [],
   "source": [
    "QUERY_TABLES = \"\"\"\n",
    "SELECT\n",
    "  table_name\n",
    "FROM\n",
    "  `bigquery-public-data.stackoverflow.INFORMATION_SCHEMA.TABLES`\n",
    "\"\"\""
   ]
  },
  {
   "cell_type": "code",
   "execution_count": 11,
   "id": "aade12b1",
   "metadata": {},
   "outputs": [
    {
     "name": "stdout",
     "output_type": "stream",
     "text": [
      "posts_answers\n",
      "users\n",
      "posts_orphaned_tag_wiki\n",
      "posts_tag_wiki\n",
      "stackoverflow_posts\n",
      "posts_questions\n",
      "comments\n",
      "posts_tag_wiki_excerpt\n",
      "posts_wiki_placeholder\n",
      "posts_privilege_wiki\n",
      "post_history\n",
      "badges\n",
      "post_links\n",
      "tags\n",
      "votes\n",
      "posts_moderator_nomination\n"
     ]
    }
   ],
   "source": [
    "query_job = bq_client.query(QUERY_TABLES)\n",
    "results = query_job.result()\n",
    "\n",
    "for row in results:\n",
    "    print(row.table_name)\n"
   ]
  },
  {
   "cell_type": "markdown",
   "id": "5d5e630e",
   "metadata": {},
   "source": [
    "# Data Retrieval"
   ]
  },
  {
   "cell_type": "code",
   "execution_count": 29,
   "id": "d4331649",
   "metadata": {},
   "outputs": [],
   "source": [
    "INSPECT_QUERY = \"\"\"\n",
    "SELECT\n",
    "    *\n",
    "FROM\n",
    "    `bigquery-public-data.stackoverflow.posts_questions`\n",
    "LIMIT 3\n",
    "\"\"\""
   ]
  },
  {
   "cell_type": "code",
   "execution_count": 14,
   "id": "e3e26571",
   "metadata": {},
   "outputs": [],
   "source": [
    "import pandas as pd"
   ]
  },
  {
   "cell_type": "code",
   "execution_count": 30,
   "id": "e29c92dc",
   "metadata": {},
   "outputs": [],
   "source": [
    "query_job = bq_client.query(INSPECT_QUERY)  "
   ]
  },
  {
   "cell_type": "code",
   "execution_count": 31,
   "id": "838f4e7c",
   "metadata": {},
   "outputs": [
    {
     "name": "stderr",
     "output_type": "stream",
     "text": [
      "/Users/shaghayeghkhalighiyan/anaconda3/lib/python3.11/site-packages/google/cloud/bigquery/table.py:1994: UserWarning: BigQuery Storage module not found, fetch data with the REST endpoint instead.\n",
      "  warnings.warn(\n"
     ]
    },
    {
     "data": {
      "text/html": [
       "<div>\n",
       "<style scoped>\n",
       "    .dataframe tbody tr th:only-of-type {\n",
       "        vertical-align: middle;\n",
       "    }\n",
       "\n",
       "    .dataframe tbody tr th {\n",
       "        vertical-align: top;\n",
       "    }\n",
       "\n",
       "    .dataframe thead th {\n",
       "        text-align: right;\n",
       "    }\n",
       "</style>\n",
       "<table border=\"1\" class=\"dataframe\">\n",
       "  <thead>\n",
       "    <tr style=\"text-align: right;\">\n",
       "      <th></th>\n",
       "      <th>id</th>\n",
       "      <th>title</th>\n",
       "      <th>body</th>\n",
       "      <th>accepted_answer_id</th>\n",
       "      <th>answer_count</th>\n",
       "      <th>comment_count</th>\n",
       "      <th>community_owned_date</th>\n",
       "      <th>creation_date</th>\n",
       "      <th>favorite_count</th>\n",
       "      <th>last_activity_date</th>\n",
       "      <th>last_edit_date</th>\n",
       "      <th>last_editor_display_name</th>\n",
       "      <th>last_editor_user_id</th>\n",
       "      <th>owner_display_name</th>\n",
       "      <th>owner_user_id</th>\n",
       "      <th>parent_id</th>\n",
       "      <th>post_type_id</th>\n",
       "      <th>score</th>\n",
       "      <th>tags</th>\n",
       "      <th>view_count</th>\n",
       "    </tr>\n",
       "  </thead>\n",
       "  <tbody>\n",
       "    <tr>\n",
       "      <th>0</th>\n",
       "      <td>71102973</td>\n",
       "      <td>Product-card snippet not loading images - Shopify</td>\n",
       "      <td>&lt;p&gt;Hi there i'm making some changes at my prod...</td>\n",
       "      <td>NaN</td>\n",
       "      <td>0</td>\n",
       "      <td>0</td>\n",
       "      <td>NaT</td>\n",
       "      <td>2022-02-13 17:00:30.403000+00:00</td>\n",
       "      <td>NaN</td>\n",
       "      <td>2022-02-13 17:00:30.403000+00:00</td>\n",
       "      <td>NaT</td>\n",
       "      <td>None</td>\n",
       "      <td>NaN</td>\n",
       "      <td>None</td>\n",
       "      <td>18184792</td>\n",
       "      <td>None</td>\n",
       "      <td>1</td>\n",
       "      <td>0</td>\n",
       "      <td>shopify|liquid|code-snippets</td>\n",
       "      <td>256</td>\n",
       "    </tr>\n",
       "    <tr>\n",
       "      <th>1</th>\n",
       "      <td>71104461</td>\n",
       "      <td>Google Sign In One Tap &amp; Laravel Socialite - B...</td>\n",
       "      <td>&lt;p&gt;I am trying to set up Google Sign In One Ta...</td>\n",
       "      <td>NaN</td>\n",
       "      <td>0</td>\n",
       "      <td>0</td>\n",
       "      <td>NaT</td>\n",
       "      <td>2022-02-13 20:11:45.200000+00:00</td>\n",
       "      <td>NaN</td>\n",
       "      <td>2022-02-13 20:17:01.387000+00:00</td>\n",
       "      <td>2022-02-13 20:17:01.387000+00:00</td>\n",
       "      <td>None</td>\n",
       "      <td>3922429.0</td>\n",
       "      <td>None</td>\n",
       "      <td>3922429</td>\n",
       "      <td>None</td>\n",
       "      <td>1</td>\n",
       "      <td>0</td>\n",
       "      <td>laravel|oauth-2.0</td>\n",
       "      <td>256</td>\n",
       "    </tr>\n",
       "    <tr>\n",
       "      <th>2</th>\n",
       "      <td>71110679</td>\n",
       "      <td>Robot Framework - how to get names of all keyw...</td>\n",
       "      <td>&lt;p&gt;I'm currently working on reporting of Robot...</td>\n",
       "      <td>NaN</td>\n",
       "      <td>0</td>\n",
       "      <td>0</td>\n",
       "      <td>NaT</td>\n",
       "      <td>2022-02-14 10:51:58.633000+00:00</td>\n",
       "      <td>NaN</td>\n",
       "      <td>2022-02-14 10:51:58.633000+00:00</td>\n",
       "      <td>NaT</td>\n",
       "      <td>None</td>\n",
       "      <td>NaN</td>\n",
       "      <td>None</td>\n",
       "      <td>14633035</td>\n",
       "      <td>None</td>\n",
       "      <td>1</td>\n",
       "      <td>0</td>\n",
       "      <td>robotframework|reporting</td>\n",
       "      <td>256</td>\n",
       "    </tr>\n",
       "  </tbody>\n",
       "</table>\n",
       "</div>"
      ],
      "text/plain": [
       "         id                                              title  \\\n",
       "0  71102973  Product-card snippet not loading images - Shopify   \n",
       "1  71104461  Google Sign In One Tap & Laravel Socialite - B...   \n",
       "2  71110679  Robot Framework - how to get names of all keyw...   \n",
       "\n",
       "                                                body  accepted_answer_id  \\\n",
       "0  <p>Hi there i'm making some changes at my prod...                 NaN   \n",
       "1  <p>I am trying to set up Google Sign In One Ta...                 NaN   \n",
       "2  <p>I'm currently working on reporting of Robot...                 NaN   \n",
       "\n",
       "   answer_count  comment_count community_owned_date  \\\n",
       "0             0              0                  NaT   \n",
       "1             0              0                  NaT   \n",
       "2             0              0                  NaT   \n",
       "\n",
       "                     creation_date  favorite_count  \\\n",
       "0 2022-02-13 17:00:30.403000+00:00             NaN   \n",
       "1 2022-02-13 20:11:45.200000+00:00             NaN   \n",
       "2 2022-02-14 10:51:58.633000+00:00             NaN   \n",
       "\n",
       "                last_activity_date                   last_edit_date  \\\n",
       "0 2022-02-13 17:00:30.403000+00:00                              NaT   \n",
       "1 2022-02-13 20:17:01.387000+00:00 2022-02-13 20:17:01.387000+00:00   \n",
       "2 2022-02-14 10:51:58.633000+00:00                              NaT   \n",
       "\n",
       "  last_editor_display_name  last_editor_user_id owner_display_name  \\\n",
       "0                     None                  NaN               None   \n",
       "1                     None            3922429.0               None   \n",
       "2                     None                  NaN               None   \n",
       "\n",
       "   owner_user_id parent_id  post_type_id  score                          tags  \\\n",
       "0       18184792      None             1      0  shopify|liquid|code-snippets   \n",
       "1        3922429      None             1      0             laravel|oauth-2.0   \n",
       "2       14633035      None             1      0      robotframework|reporting   \n",
       "\n",
       "   view_count  \n",
       "0         256  \n",
       "1         256  \n",
       "2         256  "
      ]
     },
     "execution_count": 31,
     "metadata": {},
     "output_type": "execute_result"
    }
   ],
   "source": [
    "stack_overflow_df = query_job\\\n",
    "    .result()\\\n",
    "    .to_arrow()\\\n",
    "    .to_pandas()\n",
    "stack_overflow_df.head()\n"
   ]
  },
  {
   "cell_type": "code",
   "execution_count": 38,
   "id": "c5bc8d4e",
   "metadata": {},
   "outputs": [],
   "source": [
    "INSPECT_QUERY = \"\"\"\n",
    "SELECT\n",
    "    *\n",
    "FROM\n",
    "    `bigquery-public-data.stackoverflow.posts_answers`\n",
    "LIMIT 3\n",
    "\"\"\""
   ]
  },
  {
   "cell_type": "code",
   "execution_count": 39,
   "id": "f1f7c0d9",
   "metadata": {},
   "outputs": [],
   "source": [
    "query_job = bq_client.query(INSPECT_QUERY) "
   ]
  },
  {
   "cell_type": "code",
   "execution_count": 40,
   "id": "5248b22d",
   "metadata": {},
   "outputs": [
    {
     "name": "stderr",
     "output_type": "stream",
     "text": [
      "/Users/shaghayeghkhalighiyan/anaconda3/lib/python3.11/site-packages/google/cloud/bigquery/table.py:1994: UserWarning: BigQuery Storage module not found, fetch data with the REST endpoint instead.\n",
      "  warnings.warn(\n"
     ]
    },
    {
     "data": {
      "text/html": [
       "<div>\n",
       "<style scoped>\n",
       "    .dataframe tbody tr th:only-of-type {\n",
       "        vertical-align: middle;\n",
       "    }\n",
       "\n",
       "    .dataframe tbody tr th {\n",
       "        vertical-align: top;\n",
       "    }\n",
       "\n",
       "    .dataframe thead th {\n",
       "        text-align: right;\n",
       "    }\n",
       "</style>\n",
       "<table border=\"1\" class=\"dataframe\">\n",
       "  <thead>\n",
       "    <tr style=\"text-align: right;\">\n",
       "      <th></th>\n",
       "      <th>id</th>\n",
       "      <th>title</th>\n",
       "      <th>body</th>\n",
       "      <th>accepted_answer_id</th>\n",
       "      <th>answer_count</th>\n",
       "      <th>comment_count</th>\n",
       "      <th>community_owned_date</th>\n",
       "      <th>creation_date</th>\n",
       "      <th>favorite_count</th>\n",
       "      <th>last_activity_date</th>\n",
       "      <th>last_edit_date</th>\n",
       "      <th>last_editor_display_name</th>\n",
       "      <th>last_editor_user_id</th>\n",
       "      <th>owner_display_name</th>\n",
       "      <th>owner_user_id</th>\n",
       "      <th>parent_id</th>\n",
       "      <th>post_type_id</th>\n",
       "      <th>score</th>\n",
       "      <th>tags</th>\n",
       "      <th>view_count</th>\n",
       "    </tr>\n",
       "  </thead>\n",
       "  <tbody>\n",
       "    <tr>\n",
       "      <th>0</th>\n",
       "      <td>61160630</td>\n",
       "      <td>None</td>\n",
       "      <td>&lt;p&gt;Because you have multiple matching in your ...</td>\n",
       "      <td>None</td>\n",
       "      <td>None</td>\n",
       "      <td>0</td>\n",
       "      <td>NaT</td>\n",
       "      <td>2020-04-11 17:06:17.323000+00:00</td>\n",
       "      <td>None</td>\n",
       "      <td>2020-04-11 17:17:40.823000+00:00</td>\n",
       "      <td>2020-04-11 17:17:40.823000+00:00</td>\n",
       "      <td>None</td>\n",
       "      <td>3399356.0</td>\n",
       "      <td>None</td>\n",
       "      <td>3399356</td>\n",
       "      <td>61159151</td>\n",
       "      <td>2</td>\n",
       "      <td>0</td>\n",
       "      <td>None</td>\n",
       "      <td>None</td>\n",
       "    </tr>\n",
       "    <tr>\n",
       "      <th>1</th>\n",
       "      <td>61160637</td>\n",
       "      <td>None</td>\n",
       "      <td>&lt;p&gt;&lt;strong&gt;1.&lt;/strong&gt; If you try to use varia...</td>\n",
       "      <td>None</td>\n",
       "      <td>None</td>\n",
       "      <td>0</td>\n",
       "      <td>NaT</td>\n",
       "      <td>2020-04-11 17:06:38.623000+00:00</td>\n",
       "      <td>None</td>\n",
       "      <td>2020-04-11 17:06:38.623000+00:00</td>\n",
       "      <td>NaT</td>\n",
       "      <td>None</td>\n",
       "      <td>NaN</td>\n",
       "      <td>None</td>\n",
       "      <td>13113414</td>\n",
       "      <td>61160469</td>\n",
       "      <td>2</td>\n",
       "      <td>0</td>\n",
       "      <td>None</td>\n",
       "      <td>None</td>\n",
       "    </tr>\n",
       "    <tr>\n",
       "      <th>2</th>\n",
       "      <td>61160650</td>\n",
       "      <td>None</td>\n",
       "      <td>&lt;p&gt;Here is how to do template matching with a ...</td>\n",
       "      <td>None</td>\n",
       "      <td>None</td>\n",
       "      <td>0</td>\n",
       "      <td>NaT</td>\n",
       "      <td>2020-04-11 17:07:22.420000+00:00</td>\n",
       "      <td>None</td>\n",
       "      <td>2020-04-11 17:17:37.030000+00:00</td>\n",
       "      <td>2020-04-11 17:17:37.030000+00:00</td>\n",
       "      <td>None</td>\n",
       "      <td>7355741.0</td>\n",
       "      <td>None</td>\n",
       "      <td>7355741</td>\n",
       "      <td>61141508</td>\n",
       "      <td>2</td>\n",
       "      <td>0</td>\n",
       "      <td>None</td>\n",
       "      <td>None</td>\n",
       "    </tr>\n",
       "  </tbody>\n",
       "</table>\n",
       "</div>"
      ],
      "text/plain": [
       "         id title                                               body  \\\n",
       "0  61160630  None  <p>Because you have multiple matching in your ...   \n",
       "1  61160637  None  <p><strong>1.</strong> If you try to use varia...   \n",
       "2  61160650  None  <p>Here is how to do template matching with a ...   \n",
       "\n",
       "  accepted_answer_id answer_count  comment_count community_owned_date  \\\n",
       "0               None         None              0                  NaT   \n",
       "1               None         None              0                  NaT   \n",
       "2               None         None              0                  NaT   \n",
       "\n",
       "                     creation_date favorite_count  \\\n",
       "0 2020-04-11 17:06:17.323000+00:00           None   \n",
       "1 2020-04-11 17:06:38.623000+00:00           None   \n",
       "2 2020-04-11 17:07:22.420000+00:00           None   \n",
       "\n",
       "                last_activity_date                   last_edit_date  \\\n",
       "0 2020-04-11 17:17:40.823000+00:00 2020-04-11 17:17:40.823000+00:00   \n",
       "1 2020-04-11 17:06:38.623000+00:00                              NaT   \n",
       "2 2020-04-11 17:17:37.030000+00:00 2020-04-11 17:17:37.030000+00:00   \n",
       "\n",
       "  last_editor_display_name  last_editor_user_id owner_display_name  \\\n",
       "0                     None            3399356.0               None   \n",
       "1                     None                  NaN               None   \n",
       "2                     None            7355741.0               None   \n",
       "\n",
       "   owner_user_id  parent_id  post_type_id  score  tags view_count  \n",
       "0        3399356   61159151             2      0  None       None  \n",
       "1       13113414   61160469             2      0  None       None  \n",
       "2        7355741   61141508             2      0  None       None  "
      ]
     },
     "execution_count": 40,
     "metadata": {},
     "output_type": "execute_result"
    }
   ],
   "source": [
    "stack_overflow_df = query_job\\\n",
    "    .result()\\\n",
    "    .to_arrow()\\\n",
    "    .to_pandas()\n",
    "stack_overflow_df.head()"
   ]
  },
  {
   "cell_type": "code",
   "execution_count": 32,
   "id": "1e67a4a2",
   "metadata": {},
   "outputs": [],
   "source": [
    "QUERY_ALL = \"\"\"\"\n",
    "SELECT\n",
    "    *\n",
    "FROM\n",
    "    'bigquery-public-data.stackoverflow.posts_questions'\n",
    "    \"\"\""
   ]
  },
  {
   "cell_type": "code",
   "execution_count": 33,
   "id": "89523ddb",
   "metadata": {},
   "outputs": [],
   "source": [
    "query_job = bq_client.query(QUERY_ALL)"
   ]
  },
  {
   "cell_type": "code",
   "execution_count": 37,
   "id": "c0bdeb7e",
   "metadata": {},
   "outputs": [
    {
     "name": "stdout",
     "output_type": "stream",
     "text": [
      "The DataFrame is too large to load into memory. 400 Syntax error: Unclosed string literal at [1:1]; reason: invalidQuery, location: query, message: Syntax error: Unclosed string literal at [1:1]\n",
      "\n",
      "Location: US\n",
      "Job ID: f48b8660-d2db-4304-b881-6f1e3f39a085\n",
      "\n",
      "\n",
      "Location: US\n",
      "Job ID: f48b8660-d2db-4304-b881-6f1e3f39a085\n",
      "\n",
      "\n",
      "Location: US\n",
      "Job ID: f48b8660-d2db-4304-b881-6f1e3f39a085\n",
      "\n"
     ]
    }
   ],
   "source": [
    "try:\n",
    "    stack_overflow_df = query_job.result().to_arrow().to_pandas()\n",
    "    stack_overflow_df.head()\n",
    "except Exception as e:\n",
    "     print('The DataFrame is too large to load into memory.', e)"
   ]
  },
  {
   "cell_type": "markdown",
   "id": "ab35db4b",
   "metadata": {},
   "source": [
    "# query optimizing"
   ]
  },
  {
   "cell_type": "code",
   "execution_count": 48,
   "id": "6f7a1415",
   "metadata": {},
   "outputs": [],
   "source": [
    "QUERY = \"\"\"\n",
    "SELECT\n",
    "    CONCAT(q.title, q.body) as input_text,\n",
    "    a.body AS output_text\n",
    "FROM\n",
    "    `bigquery-public-data.stackoverflow.posts_questions` q\n",
    "JOIN\n",
    "    `bigquery-public-data.stackoverflow.posts_answers` a\n",
    "ON\n",
    "    q.accepted_answer_id = a.id\n",
    "WHERE\n",
    "    q.accepted_answer_id IS NOT NULL AND\n",
    "    REGEXP_CONTAINS(q.tags, \"python\") AND\n",
    "    a.creation_date >= \"2020-01-01\"\n",
    "LIMIT\n",
    "    10000\n",
    "\"\"\""
   ]
  },
  {
   "cell_type": "code",
   "execution_count": 49,
   "id": "11b05ceb",
   "metadata": {},
   "outputs": [],
   "source": [
    "query_job = bq_client.query(QUERY)"
   ]
  },
  {
   "cell_type": "code",
   "execution_count": 50,
   "id": "8d848758",
   "metadata": {},
   "outputs": [
    {
     "name": "stderr",
     "output_type": "stream",
     "text": [
      "/Users/shaghayeghkhalighiyan/anaconda3/lib/python3.11/site-packages/google/cloud/bigquery/table.py:1994: UserWarning: BigQuery Storage module not found, fetch data with the REST endpoint instead.\n",
      "  warnings.warn(\n"
     ]
    },
    {
     "data": {
      "text/html": [
       "<div>\n",
       "<style scoped>\n",
       "    .dataframe tbody tr th:only-of-type {\n",
       "        vertical-align: middle;\n",
       "    }\n",
       "\n",
       "    .dataframe tbody tr th {\n",
       "        vertical-align: top;\n",
       "    }\n",
       "\n",
       "    .dataframe thead th {\n",
       "        text-align: right;\n",
       "    }\n",
       "</style>\n",
       "<table border=\"1\" class=\"dataframe\">\n",
       "  <thead>\n",
       "    <tr style=\"text-align: right;\">\n",
       "      <th></th>\n",
       "      <th>input_text</th>\n",
       "      <th>output_text</th>\n",
       "    </tr>\n",
       "  </thead>\n",
       "  <tbody>\n",
       "    <tr>\n",
       "      <th>0</th>\n",
       "      <td>Simple way to measure cell execution time in i...</td>\n",
       "      <td>&lt;p&gt;That was only a problem in old versions.&lt;/p...</td>\n",
       "    </tr>\n",
       "    <tr>\n",
       "      <th>1</th>\n",
       "      <td>Plotting live pie-chart using matplotlib pyplo...</td>\n",
       "      <td>&lt;p&gt;Fixed it.&lt;/p&gt;\\n&lt;pre class=\"lang-py prettypr...</td>\n",
       "    </tr>\n",
       "    <tr>\n",
       "      <th>2</th>\n",
       "      <td>sklearn.compose.ColumnTransformer() handles si...</td>\n",
       "      <td>&lt;p&gt;See the section 6.1.4 in the &lt;a href=\"https...</td>\n",
       "    </tr>\n",
       "    <tr>\n",
       "      <th>3</th>\n",
       "      <td>How to import a local module into azure databr...</td>\n",
       "      <td>&lt;p&gt;I've solved this by using python's &lt;code&gt;eg...</td>\n",
       "    </tr>\n",
       "    <tr>\n",
       "      <th>4</th>\n",
       "      <td>R equivalent of python -m module for an R pack...</td>\n",
       "      <td>&lt;p&gt;As it turns out there was a really simple s...</td>\n",
       "    </tr>\n",
       "  </tbody>\n",
       "</table>\n",
       "</div>"
      ],
      "text/plain": [
       "                                          input_text  \\\n",
       "0  Simple way to measure cell execution time in i...   \n",
       "1  Plotting live pie-chart using matplotlib pyplo...   \n",
       "2  sklearn.compose.ColumnTransformer() handles si...   \n",
       "3  How to import a local module into azure databr...   \n",
       "4  R equivalent of python -m module for an R pack...   \n",
       "\n",
       "                                         output_text  \n",
       "0  <p>That was only a problem in old versions.</p...  \n",
       "1  <p>Fixed it.</p>\\n<pre class=\"lang-py prettypr...  \n",
       "2  <p>See the section 6.1.4 in the <a href=\"https...  \n",
       "3  <p>I've solved this by using python's <code>eg...  \n",
       "4  <p>As it turns out there was a really simple s...  "
      ]
     },
     "execution_count": 50,
     "metadata": {},
     "output_type": "execute_result"
    }
   ],
   "source": [
    "stack_overflow_df = query_job.result().to_arrow().to_pandas()\n",
    "stack_overflow_df.head()"
   ]
  },
  {
   "cell_type": "markdown",
   "id": "0bbe9664",
   "metadata": {},
   "source": [
    "# Adding Instructions"
   ]
  },
  {
   "cell_type": "code",
   "execution_count": 51,
   "id": "9eb0181a",
   "metadata": {},
   "outputs": [],
   "source": [
    "INSTRUCTION_TEMPLATE = f\"\"\"\\\n",
    "Please answer the following Stackoverflow question on Python. \\\n",
    "Answer it like you are a developer answering Stackoverflow questions.\n",
    "\n",
    "Stackoverflow question:\n",
    "\"\"\""
   ]
  },
  {
   "cell_type": "code",
   "execution_count": 57,
   "id": "49cfe835",
   "metadata": {},
   "outputs": [],
   "source": [
    "stack_overflow_df['input_text_instruct'] = INSTRUCTION_TEMPLATE + ' ' + stack_overflow_df['input_text']"
   ]
  },
  {
   "cell_type": "code",
   "execution_count": 64,
   "id": "ba31f28f",
   "metadata": {},
   "outputs": [
    {
     "data": {
      "text/html": [
       "<div>\n",
       "<style scoped>\n",
       "    .dataframe tbody tr th:only-of-type {\n",
       "        vertical-align: middle;\n",
       "    }\n",
       "\n",
       "    .dataframe tbody tr th {\n",
       "        vertical-align: top;\n",
       "    }\n",
       "\n",
       "    .dataframe thead th {\n",
       "        text-align: right;\n",
       "    }\n",
       "</style>\n",
       "<table border=\"1\" class=\"dataframe\">\n",
       "  <thead>\n",
       "    <tr style=\"text-align: right;\">\n",
       "      <th></th>\n",
       "      <th>input_text</th>\n",
       "      <th>output_text</th>\n",
       "      <th>input_text_instruct</th>\n",
       "    </tr>\n",
       "  </thead>\n",
       "  <tbody>\n",
       "    <tr>\n",
       "      <th>0</th>\n",
       "      <td>Simple way to measure cell execution time in i...</td>\n",
       "      <td>&lt;p&gt;That was only a problem in old versions.&lt;/p...</td>\n",
       "      <td>Please answer the following Stackoverflow ques...</td>\n",
       "    </tr>\n",
       "    <tr>\n",
       "      <th>1</th>\n",
       "      <td>Plotting live pie-chart using matplotlib pyplo...</td>\n",
       "      <td>&lt;p&gt;Fixed it.&lt;/p&gt;\\n&lt;pre class=\"lang-py prettypr...</td>\n",
       "      <td>Please answer the following Stackoverflow ques...</td>\n",
       "    </tr>\n",
       "    <tr>\n",
       "      <th>2</th>\n",
       "      <td>sklearn.compose.ColumnTransformer() handles si...</td>\n",
       "      <td>&lt;p&gt;See the section 6.1.4 in the &lt;a href=\"https...</td>\n",
       "      <td>Please answer the following Stackoverflow ques...</td>\n",
       "    </tr>\n",
       "    <tr>\n",
       "      <th>3</th>\n",
       "      <td>How to import a local module into azure databr...</td>\n",
       "      <td>&lt;p&gt;I've solved this by using python's &lt;code&gt;eg...</td>\n",
       "      <td>Please answer the following Stackoverflow ques...</td>\n",
       "    </tr>\n",
       "    <tr>\n",
       "      <th>4</th>\n",
       "      <td>R equivalent of python -m module for an R pack...</td>\n",
       "      <td>&lt;p&gt;As it turns out there was a really simple s...</td>\n",
       "      <td>Please answer the following Stackoverflow ques...</td>\n",
       "    </tr>\n",
       "  </tbody>\n",
       "</table>\n",
       "</div>"
      ],
      "text/plain": [
       "                                          input_text  \\\n",
       "0  Simple way to measure cell execution time in i...   \n",
       "1  Plotting live pie-chart using matplotlib pyplo...   \n",
       "2  sklearn.compose.ColumnTransformer() handles si...   \n",
       "3  How to import a local module into azure databr...   \n",
       "4  R equivalent of python -m module for an R pack...   \n",
       "\n",
       "                                         output_text  \\\n",
       "0  <p>That was only a problem in old versions.</p...   \n",
       "1  <p>Fixed it.</p>\\n<pre class=\"lang-py prettypr...   \n",
       "2  <p>See the section 6.1.4 in the <a href=\"https...   \n",
       "3  <p>I've solved this by using python's <code>eg...   \n",
       "4  <p>As it turns out there was a really simple s...   \n",
       "\n",
       "                                 input_text_instruct  \n",
       "0  Please answer the following Stackoverflow ques...  \n",
       "1  Please answer the following Stackoverflow ques...  \n",
       "2  Please answer the following Stackoverflow ques...  \n",
       "3  Please answer the following Stackoverflow ques...  \n",
       "4  Please answer the following Stackoverflow ques...  "
      ]
     },
     "execution_count": 64,
     "metadata": {},
     "output_type": "execute_result"
    }
   ],
   "source": [
    "stack_overflow_df.head()"
   ]
  },
  {
   "cell_type": "markdown",
   "id": "a257963e",
   "metadata": {},
   "source": [
    "# Dataset for Tuning"
   ]
  },
  {
   "cell_type": "code",
   "execution_count": 58,
   "id": "775b5743",
   "metadata": {},
   "outputs": [],
   "source": [
    "from sklearn.model_selection import train_test_split"
   ]
  },
  {
   "cell_type": "code",
   "execution_count": 59,
   "id": "8f4d6464",
   "metadata": {},
   "outputs": [],
   "source": [
    "train, evaluation = train_test_split(\n",
    "    stack_overflow_df,\n",
    "    test_size=0.2,\n",
    "    random_state=42\n",
    ")"
   ]
  },
  {
   "cell_type": "markdown",
   "id": "f54a7691",
   "metadata": {},
   "source": [
    "# Versioning data"
   ]
  },
  {
   "cell_type": "code",
   "execution_count": 60,
   "id": "3b973114",
   "metadata": {},
   "outputs": [],
   "source": [
    "import datetime"
   ]
  },
  {
   "cell_type": "code",
   "execution_count": 61,
   "id": "a720d66b",
   "metadata": {},
   "outputs": [],
   "source": [
    "date = datetime.datetime.now().strftime(\"%H:%d:%m:%Y\")"
   ]
  },
  {
   "cell_type": "markdown",
   "id": "3dcaf93c",
   "metadata": {},
   "source": [
    "# Generate a jsonl file."
   ]
  },
  {
   "cell_type": "code",
   "execution_count": 66,
   "id": "0a4e4901",
   "metadata": {},
   "outputs": [],
   "source": [
    "cols = ['input_text_instruct','output_text']\n",
    "tune_jsonl = train[cols].to_json(orient=\"records\", lines=True)"
   ]
  },
  {
   "cell_type": "code",
   "execution_count": 67,
   "id": "9c51df3c",
   "metadata": {},
   "outputs": [],
   "source": [
    "training_data_filename = f\"tune_data_stack_overflow_python_qa-{date}.jsonl\""
   ]
  },
  {
   "cell_type": "code",
   "execution_count": 68,
   "id": "0997648f",
   "metadata": {},
   "outputs": [],
   "source": [
    "with open (training_data_filename,'w') as f:\n",
    "    f.write(tune_jsonl)"
   ]
  },
  {
   "cell_type": "code",
   "execution_count": 71,
   "id": "27894905",
   "metadata": {
    "collapsed": true
   },
   "outputs": [
    {
     "name": "stdout",
     "output_type": "stream",
     "text": [
      "{\"input_text_instruct\":\"Please answer the following Stackoverflow question on Python. Answer it like you are a developer answering Stackoverflow questions.\\n\\nStackoverflow question:\\n deformat locale number string back to number<p>I can create a locale Number string via<\\/p>\\n\\n<pre><code>import locale\\nlocale.setlocale(locale.LC_ALL, 'de_DE.utf8')\\nnumberstring = '{0:n}'.format(number)\\n<\\/code><\\/pre>\\n\\n<p>(I found this on <a href=\\\"https:\\/\\/stackoverflow.com\\/a\\/31923117\\\">this stackoverflow answer<\\/a>.)<\\/p>\\n\\n<p>Now, I have an input from the user. I don't know whether it is a valid locale number string or not. If it is, I want to convert it to a number. If it is not, I want to send an error and let him retry.<\\/p>\\n\\n<p>What is the best-practice solution i.e. the one that uses the functions from the <code>locale<\\/code> lib that are meant for this? (I guess this does exist?)<\\/p>\",\"output_text\":\"<p>Doesn't <a href=\\\"https:\\/\\/docs.python.org\\/3\\/library\\/locale.html#locale.delocalize\\\" rel=\\\"nofollow noreferrer\\\"><code>locale.delocalize<\\/code><\\/a> solve your problem? For example:<\\/p>\\n\\n<pre class=\\\"lang-py prettyprint-override\\\"><code>import locale\\n\\nlocale.setlocale(locale.LC_ALL, 'de_DE.utf8')\\nnumberstring = '{0:n}'.format(1700.5)   # \\\"1 700,5\\\"\\nnormalized = locale.delocalize(numberstring)  # \\\"1700.5\\\"\\ntry:\\n    number = float(normalized)  # 1700.5\\nexcept ValueError:\\n    # Not a number\\n<\\/code><\\/pre>\"}\n",
      "\n",
      "{\"input_text_instruct\":\"Please answer the following Stackoverflow question on Python. Answer it like you are a developer answering Stackoverflow questions.\\n\\nStackoverflow question:\\n Variable in Jinja - Flask<p>I am tryin creating a drop down list to select a year. The list has to goto 200 years in the past starting from today. I am unable to make a loop work in jinja to create the select options.\\nI have passed it the <code>now<\\/code> variable which holds current year(2020).<\\/p>\\n<p>The line <code>now -= 1<\\/code> is thowing me eror:\\njinja2.exceptions.TemplateSyntaxError<\\/p>\\n<p><div class=\\\"snippet\\\" data-lang=\\\"js\\\" data-hide=\\\"false\\\" data-console=\\\"true\\\" data-babel=\\\"false\\\">\\n<div class=\\\"snippet-code\\\">\\n<pre class=\\\"snippet-code-html lang-html prettyprint-override\\\"><code>&lt;select class = \\\"year\\\" name = \\\"year\\\"&gt;\\n    {% for x in range (200) %}\\n        &lt;option value= '{{ now }}'&gt;{{ now }}&lt;\\/option&gt;\\n        {% now -= 1 %}\\n    {% endfor %}\\n&lt;\\/select&gt;<\\/code><\\/pre>\\n<\\/div>\\n<\\/div>\\n<\\/p>\\n<p>In php I would do this and it works:<\\/p>\\n<p><div class=\\\"snippet\\\" data-lang=\\\"js\\\" data-hide=\\\"false\\\" data-console=\\\"true\\\" data-babel=\\\"false\\\">\\n<div class=\\\"snippet-code\\\">\\n<pre class=\\\"snippet-code-html lang-html prettyprint-override\\\"><code>&lt;?php\\n    $curr_date = date('Y');\\n    for ($i = $curr_date; $i &gt; 1800; $i--) {\\n        echo '&lt;option value = \\\"' . $i . '\\\"&gt;' . $i . '&lt;\\/option&gt;';\\n    }\\n?&gt;<\\/code><\\/pre>\\n<\\/div>\\n<\\/div>\\n<\\/p>\",\"output_text\":\"<p>You can use the 0-indexed loop index variable for this task: <a href=\\\"https:\\/\\/jinja.palletsprojects.com\\/en\\/2.11.x\\/templates\\/#for\\\" rel=\\\"nofollow noreferrer\\\">loop.index0<\\/a>:<\\/p>\\n<pre><code>&lt;select class=&quot;year&quot; name=&quot;year&quot;&gt;\\n    {% for x in range (200) %}\\n        &lt;option value= '{{ now - loop.index0 }}'&gt;{{ now - loop.index0 }}&lt;\\/option&gt;\\n    {% endfor %}\\n&lt;\\/select&gt;\\n<\\/code><\\/pre>\"}\n",
      "\n",
      "{\"input_text_instruct\":\"Please answer the following Stackoverflow question on Python. Answer it like you are a developer answering Stackoverflow questions.\\n\\nStackoverflow question:\\n Python says function is not defined despite being defined just two lines above<p>I have this class:<\\/p>\\n\\n<pre class=\\\"lang-py prettyprint-override\\\"><code>class Demo():\\n\\n    ############################### Drawing functions\\n\\n    SCREEN_OFFSETX, SCREEN_OFFSETY = SCREEN_WIDTH\\/16, SCREEN_HEIGHT\\n\\n    def fix_vertices(vertices):\\n        return [(int(SCREEN_OFFSETX + v[0]), int(SCREEN_OFFSETY - v[1])) for v in vertices]\\n\\n    def draw_polygon(polygon, screen, body, fixture):\\n        transform = body.transform\\n        vertices = fix_vertices([transform * v * PPM for v in polygon.vertices])\\n        pygame.draw.polygon(\\n            screen, [c \\/ 2.0 for c in colors[body.type]], vertices, 0)\\n        pygame.draw.polygon(screen, colors[body.type], vertices, 1)\\n    polygonShape.draw = draw_polygon\\n    ''''\\n    Do other stuff...\\n    ''''\\n<\\/code><\\/pre>\\n\\n<p>and I run it using these lines of code:<\\/p>\\n\\n<pre><code>Car = Demo()\\nif __name__ == \\\"__main__\\\":\\n    Car\\n    print(\\\"It Works\\\")\\n<\\/code><\\/pre>\\n\\n<p>But when I try to run it I got an error that fix_vertices_ is not defined... how can I fix this?<\\/p>\\n\\n<p>Thank you very much<\\/p>\\n\\n<p>P.S. and another subquestion... is it the correct way of calling this class using the<\\/p>\\n\\n<pre class=\\\"lang-py prettyprint-override\\\"><code>if __name__ == \\\"__main__\\\"\\n<\\/code><\\/pre>\\n\\n<p>syntax or is there a better way for example<\\/p>\\n\\n<pre class=\\\"lang-py prettyprint-override\\\"><code>if __name__ == \\\"__main__\\\":\\n    main(Demo)\\n<\\/code><\\/pre>\\n\\n<p>Thank you very much<\\/p>\",\"output_text\":\"<blockquote>\\n<p>But when I try to run it I got an error that fix_vertices_ is not defined... how can I fix this?<\\/p>\\n<\\/blockquote>\\n<p>You've defined <code>fix_vertices<\\/code> as a <em>method<\\/em> but are trying to call it as a <em>free function<\\/em>. Pick one or the other.<\\/p>\\n<blockquote>\\n<p>P.S. and another subquestion... is it the correct way of calling this class using the<\\/p>\\n<pre><code>if __name__ == &quot;__main__&quot;\\n<\\/code><\\/pre>\\n<p>syntax or is there a better way for example<\\/p>\\n<pre><code>if __name__ == &quot;__main__&quot;:\\n     main(Demo)\\n<\\/code><\\/pre>\\n<p>Thank you very much<\\/p>\\n<\\/blockquote>\\n<p>It's really not clear what your question is. <code>if __name__ == &quot;__main__&quot;<\\/code> is useful to provide packages which are both importable and runnable, having a &quot;main function&quot; is not necessary but can be convenient for proper scoping.<\\/p>\"}\n",
      "\n",
      "{\"input_text_instruct\":\"Please answer the following Stackoverflow question on Python. Answer it like you are a developer answering Stackoverflow questions.\\n\\nStackoverflow question:\\n function not working when key value is assigned directly from dictionary to a variable python<p>So I have been learning python for I guess 10 days or so and I came across some weird behavior by python.<\\/p>\\n<p>Code snippets and output images below:<\\/p>\\n<pre><code>    #calculator\\n\\ndef add(n1,n2):\\n  &quot;&quot;&quot;Adds two numbers&quot;&quot;&quot;\\n  return n1 + n2\\n\\ndef subtract(n1,n2):\\n  &quot;&quot;&quot;Subtracts two numbers&quot;&quot;&quot;\\n  return n1 - n2\\n\\ndef multiply(n1,n2):\\n  &quot;&quot;&quot;Multiplies two numbers&quot;&quot;&quot;\\n  return n1 * n2\\n\\ndef divide(n1,n2):\\n  &quot;&quot;&quot;Divides two numbers&quot;&quot;&quot;\\n  return n1 \\/ n2\\n\\n#we do not add paranthesis because we want to store the names of functions in the dictionary\\n#we do not want to assign the function and trigger a call for execution itself. Hence only the name of the function will suffice.\\n\\noperations = {\\n'+' : add,\\n'-': subtract,\\n'*': multiply,\\n'\\/': divide,\\n}\\n\\nnum1 = int(input(&quot;What is this first number you want to enter ?\\\\n&quot;))\\nnum2 = int(input(&quot;What is this second number you want to enter ?\\\\n&quot;))\\n\\nfor operation_symbols in operations:\\n  print(operation_symbols)\\n\\noperation_symbol = input(&quot;Pick a symbol from the list above for your calculations&quot;)\\n\\nanswer = operations[operation_symbol]\\nanswer(num1,num2)\\nprint(f&quot;{num1} {operation_symbol} {num2} = {answer}&quot;)\\n<\\/code><\\/pre>\\n<p>When I write this code: my output is the image below:\\n<a href=\\\"https:\\/\\/i.stack.imgur.com\\/aSdbf.jpg\\\" rel=\\\"nofollow noreferrer\\\">output<\\/a><\\/p>\\n<p>However, when I make the following changes<\\/p>\\n<pre><code>#calculator\\n\\ndef add(n1,n2):\\n  &quot;&quot;&quot;Adds two numbers&quot;&quot;&quot;\\n  return n1 + n2\\n\\ndef subtract(n1,n2):\\n  &quot;&quot;&quot;Subtracts two numbers&quot;&quot;&quot;\\n  return n1 - n2\\n\\ndef multiply(n1,n2):\\n  &quot;&quot;&quot;Multiplies two numbers&quot;&quot;&quot;\\n  return n1 * n2\\n\\ndef divide(n1,n2):\\n  &quot;&quot;&quot;Divides two numbers&quot;&quot;&quot;\\n  return n1 \\/ n2\\n\\n#we do not add paranthesis because we want to store the names of functions in the dictionary\\n#we do not want to assign the function and trigger a call for execution itself. Hence only the name of the function will suffice.\\n\\noperations = {\\n'+' : add,\\n'-': subtract,\\n'*': multiply,\\n'\\/': divide,\\n}\\n\\nnum1 = int(input(&quot;What is this first number you want to enter ?\\\\n&quot;))\\nnum2 = int(input(&quot;What is this second number you want to enter ?\\\\n&quot;))\\n\\nfor operation_symbols in operations:\\n  print(operation_symbols)\\n\\noperation_symbol = input(&quot;Pick a symbol from the list above for your calculations&quot;)\\n\\noperation_function = operations[operation_symbol]\\nanswer = operation_function(num1,num2)\\nprint(f&quot;{num1} {operation_symbol} {num2} = {answer}&quot;)\\n<\\/code><\\/pre>\\n<p>The output I get is the desired one:\\n<a href=\\\"https:\\/\\/i.stack.imgur.com\\/jsp6O.jpg\\\" rel=\\\"nofollow noreferrer\\\">desired output of calculator from above code snippet<\\/a><\\/p>\\n<p>I wanted to know why this happens. I have no idea what is the deal with my code.\\nThanks and Regards.<\\/p>\",\"output_text\":\"<p>In the first code snippet, you are trying to print the reference to the function itself, rather than the result of the function call, <code>answer(num1,num2)<\\/code>. Change it as follows and you will get the desired result:<\\/p>\\n<pre><code>print(f&quot;{num1} {operation_symbol} {num2} = {answer(num1, num2)}&quot;)\\n<\\/code><\\/pre>\\n<p>Alternatively,<\\/p>\\n<pre><code>result = answer(num1, num2)\\nprint(f&quot;{num1} {operation_symbol} {num2} = {result}&quot;)\\n<\\/code><\\/pre>\"}\n",
      "\n",
      "{\"input_text_instruct\":\"Please answer the following Stackoverflow question on Python. Answer it like you are a developer answering Stackoverflow questions.\\n\\nStackoverflow question:\\n multiprocessing.Process doesn't work as I want<p>I wrote a program, and I want to run a function with multiprocessing.Process, but I get no result.<\\/p>\\n<pre class=\\\"lang-py prettyprint-override\\\"><code>import sys, urllib\\nfrom urllib.request import urlopen, Request\\n\\n\\ndef disallow(line):\\n    if &quot;Disallow&quot; in line:\\n        print(line.replace(&quot;Disallow: &quot;, &quot;&quot;))\\n\\n\\ndef parse_robot_txt(url):\\n    url += &quot;robots.txt&quot;\\n    req = Request(url, data=None,\\n        headers={&quot;User-Agent&quot;: &quot;Mozilla\\/5.0&quot;},)\\n    robots = urlopen(req).read().decode(&quot;UTF-8&quot;)\\n    lines = str(robots).splitlines()\\n\\n    for l in lines:\\n        multiprocessing.Process(target=disallow, args=(l,))\\n\\n\\nif __name__ == &quot;__main__&quot;:\\n    parse_robot_txt(&quot;https:\\/\\/moz.com\\/&quot;)\\n<\\/code><\\/pre>\\n<p>Out:<\\/p>\\n<pre><code><\\/code><\\/pre>\\n<p>I didn't get result,\\nbut if I run without multiprocessing:<\\/p>\\n<pre class=\\\"lang-py prettyprint-override\\\"><code>import sys, urllib\\nfrom urllib.request import urlopen, Request\\n\\n\\ndef disallow(line):\\n    if &quot;Disallow&quot; in line:\\n        print(line.replace(&quot;Disallow: &quot;, &quot;&quot;))\\n\\n\\ndef parse_robot_txt(url):\\n    url += &quot;robots.txt&quot;\\n    req = Request(url, data=None,\\n        headers={&quot;User-Agent&quot;: &quot;Mozilla\\/5.0&quot;},)\\n    robots = urlopen(req).read().decode(&quot;UTF-8&quot;)\\n    lines = str(robots).splitlines()\\n\\n    for l in lines:\\n        disallow(l)\\n\\n\\nif __name__ == &quot;__main__&quot;:\\n    parse_robot_txt(&quot;https:\\/\\/moz.com\\/&quot;)\\n<\\/code><\\/pre>\\n<p>Out:<\\/p>\\n<pre><code>\\/products\\/content\\/  \\n\\/local\\/enterprise\\/confirm  \\n\\/researchtools\\/ose\\/        \\n\\/page-strength\\/*  \\n\\/thumbs\\/*  \\n\\/api\\/user?*  \\n\\/checkout\\/freetrial\\/*  \\n\\/local\\/search\\/  \\n\\/local\\/details\\/  \\n\\/messages\\/  \\n\\/content\\/audit\\/*  \\n\\/content\\/search\\/*  \\n\\/marketplace\\/  \\n\\/cpresources\\/  \\n\\/vendor\\/  \\n\\/community\\/q\\/questions\\/*\\/view_counts  \\n\\/admin-preview\\/*  \\n<\\/code><\\/pre>\\n<p>So, what's the problem of multiprocessing? How can I use it to get the same result?<\\/p>\",\"output_text\":\"<p>You need to start the Process, simply change it to:<\\/p>\\n<pre><code>for l in lines:\\n    proc = multiprocessing.Process(target=disallow, args=(l,))\\n    proc.start()\\n<\\/code><\\/pre>\"}\n",
      "\n"
     ]
    }
   ],
   "source": [
    "with open(training_data_filename, \"r\") as f:\n",
    "    lines = f.readlines()\n",
    "\n",
    "for line in lines[:5]:\n",
    "    print(line)\n"
   ]
  },
  {
   "cell_type": "code",
   "execution_count": 72,
   "id": "bbdb9dec",
   "metadata": {},
   "outputs": [],
   "source": [
    "tune_jsonl = evaluation[cols].to_json(orient=\"records\", lines=True)\n",
    "validation_data_filename = f\"tune_eval_data_stack_overflow_python_qa-{date}.jsonl\"\n",
    "with open (validation_data_filename,'w') as f:\n",
    "    f.write(tune_jsonl)"
   ]
  },
  {
   "cell_type": "code",
   "execution_count": 73,
   "id": "cab586aa",
   "metadata": {},
   "outputs": [
    {
     "name": "stdout",
     "output_type": "stream",
     "text": [
      "{\"input_text_instruct\":\"Please answer the following Stackoverflow question on Python. Answer it like you are a developer answering Stackoverflow questions.\\n\\nStackoverflow question:\\n How to test if var is not either of two strings?<p>I've stumbled upon a problem I can't explain.<\\/p>\\n<pre><code>chosen = input()\\nif chosen == &quot;1&quot; or chosen == &quot;2&quot;:\\n  print(&quot;Okay&quot;)\\nelse:\\n  print(&quot;Please choose between 1 or 2.&quot;)\\n<\\/code><\\/pre>\\n<p>If written like that it executes as intended, but the flow felt weird, so I want to continue with else, so I changed the statement to !=<\\/p>\\n<pre><code>chosen = input()\\nif chosen != &quot;1&quot; or chosen != &quot;2&quot;:\\n  print(&quot;Please choose between 1 or 2.&quot;)\\nelse:\\n  print(&quot;Okay&quot;)\\n<\\/code><\\/pre>\\n<p>That way (to me) it feels natural to continue the code, but now no input returns &quot;Okay&quot;.<\\/p>\",\"output_text\":\"<p>Ideally, you'd use <code>in<\\/code> for this, which reads much cleaner<\\/p>\\n<pre><code>while True:\\n    chosen = input()\\n    if chosen in [&quot;1&quot;, &quot;2&quot;]:\\n      print(&quot;Okay&quot;)\\n      break\\n    else:\\n      print(&quot;Please choose between 1 or 2.&quot;)\\n<\\/code><\\/pre>\"}\n",
      "\n",
      "{\"input_text_instruct\":\"Please answer the following Stackoverflow question on Python. Answer it like you are a developer answering Stackoverflow questions.\\n\\nStackoverflow question:\\n Programming a Discord bot in Python- How do I make it automatically send messages?<p>I want to make my bot automatically send an image to a channel every ten minutes. Here's my code:<\\/p>\\n<pre><code>def job():\\n  channel = client.get_channel(803842308139253760)\\n  channel.send(file=discord.File(random.choice('image1', 'image2', 'image3))\\n\\nschedule.every(10).minutes.do(job)\\n\\nwhile True:\\n  schedule.run_pending()\\n  time.sleep(1)\\n<\\/code><\\/pre>\\n<p>I know that the schedule works. But for some reason, it can't send the message. I get this error: <code>AttributeError: 'NoneType' object has no attribute 'send'<\\/code>. I'm new to programming, so any insight would be greatly appreciated!<\\/p>\",\"output_text\":\"<p>You're getting that error because the channel variable is <code>None<\\/code> (a <code>NoneType<\\/code> doesn't have any attributes\\/methods) because the channel it's not in the internal cache, you're blocking the whole thread so it never loads. I'm guessing I could fix your code but is a really bad solution to background tasks. Fortunately <code>discord.py<\\/code> comes with a built-in extension for doing such things, here an example:<\\/p>\\n<pre class=\\\"lang-py prettyprint-override\\\"><code>from discord.ext import tasks\\n\\n@tasks.loop(minutes=10) # You can either pass seconds, minutes or hours\\nasync def send_image(channel: discord.TextChannel):\\n    image = discord.File(&quot;path here&quot;)\\n    await channel.send(file=image)\\n\\n\\n# Starting the task (you can also do it on the `on_ready` event so it starts when the bot is running)\\n@client.command()\\nasync def start(ctx):\\n    channel = client.get_channel(ID_HERE)\\n    send_image.start(channel)\\n\\n\\n# Using the `on_ready` event\\n@client.event\\nasync def on_ready():\\n    await client.wait_until_ready() # Waiting till the internal cache is done loading\\n\\n    channel = client.get_channel(ID_HERE)\\n    send_image.start(channel)\\n\\n\\n@client.command()\\nasync def stop(ctx):\\n    send_image.stop()\\n<\\/code><\\/pre>\\n<h3>Reference:<\\/h3>\\n<ul>\\n<li><a href=\\\"https:\\/\\/discordpy.readthedocs.io\\/en\\/latest\\/ext\\/tasks\\/index.html?highlight=tasks%20loop#discord.ext.tasks.loop\\\" rel=\\\"nofollow noreferrer\\\"><code>tasks.loop<\\/code><\\/a><\\/li>\\n<li><a href=\\\"https:\\/\\/discordpy.readthedocs.io\\/en\\/latest\\/ext\\/tasks\\/index.html?highlight=start#discord.ext.tasks.Loop.start\\\" rel=\\\"nofollow noreferrer\\\"><code>Loop.start<\\/code><\\/a><\\/li>\\n<li><a href=\\\"https:\\/\\/discordpy.readthedocs.io\\/en\\/latest\\/ext\\/tasks\\/index.html?highlight=start#discord.ext.tasks.Loop.stop\\\" rel=\\\"nofollow noreferrer\\\"><code>Loop.stop<\\/code><\\/a><\\/li>\\n<\\/ul>\"}\n",
      "\n",
      "{\"input_text_instruct\":\"Please answer the following Stackoverflow question on Python. Answer it like you are a developer answering Stackoverflow questions.\\n\\nStackoverflow question:\\n How to solve method() takes 1 positional argument but 2 were given, when i pass a variable into another method<h1>I want to pass this chance variable declared in main_game in Hangman_figure<\\/h1>\\n\\n<pre><code>def hangman_figure(chance):\\n    print(\\\"hello world\\\")\\n\\n    if chance==8:\\n\\n        print(\\\"Select another letter\\\")\\n        print(chance)\\n\\n    elif chance== 7:\\n        print(\\\"O\\\")\\n    elif chance==6:\\n        print(\\\"O\\\")\\n        print('|')\\n<\\/code><\\/pre>\\n\\n<h1>this is the method where my variable is declared<\\/h1>\\n\\n<p>def main_game(self):<\\/p>\\n\\n<pre><code>    spaces=[]\\n    chance=9\\n    for space in range(0,self.word_len):\\n        spaces.append('_ ')\\n        print(spaces[space],end=\\\" \\\")\\n\\n\\n    for x in range(1,10):\\n        choose =input('Kindly choose a letter that you think this word contains :')\\n        if choose in self.word_store:\\n            position=self.word_store.index(choose)\\n            spaces[position]= choose\\n            for y in range(0,self.word_len):\\n                print(spaces[y],end=\\\" \\\")\\n\\n\\n            print(\\\"Great!! This letter is present in the word, Keep Going\\\")\\n\\n        else:\\n            chance=chance-1 \\n            #I have declared this chance variable which I need to use\\n\\n            print(\\\"Sorry this letter does not exist in the word\\\")\\n\\n            self.hangman_figure(chance)   \\n<\\/code><\\/pre>\\n\\n<h1>How can I pass this chance variable in my hangman_figure method<\\/h1>\",\"output_text\":\"<p>I guess you're using a class. That given your method <code>hangman_figure<\\/code> needs to have <code>self<\\/code> as an argument. Corrected method:<\\/p>\\n\\n<pre><code>def hangman_figure(self, chance):\\n   print(\\\"hello world\\\")\\n<\\/code><\\/pre>\\n\\n<p>Otherwise <code>self.hangman_figure(chance)<\\/code> in <code>main.py<\\/code> will cause the error because you call the method on a class instance which counts as giving an argument and you also give <code>chance<\\/code> as an argument.<\\/p>\"}\n",
      "\n",
      "{\"input_text_instruct\":\"Please answer the following Stackoverflow question on Python. Answer it like you are a developer answering Stackoverflow questions.\\n\\nStackoverflow question:\\n How an external module can display a message in Pyqt5 ui?<p>I am developing a UI with Python 3.7 PyQt5.<\\/p>\\n<p>This UI has several buttons that execute some methods.<\\/p>\\n<p>I create a separate module called \\u00ab\\u00a0mymodules.py\\u00a0\\u00bb which stores some methods. The buttons of my UI are calling these external methods.<\\/p>\\n<p>These methods sometimes failed and I am displaying the error message in the log console.\\nI would like to display these error messages on my UI.<\\/p>\\n<p>How can I do that please? As my modules can\\u2019t access the elements of my UI.<\\/p>\\n<p>You can easily reproduce this scenario with this code below to copy-paste in 2 separate files (one for the UI, one for the 'mymodules')<\\/p>\\n<p><strong>Code:<\\/strong><\\/p>\\n<pre><code>#main UI\\nimport sys\\nfrom PyQt5.QtGui import QIcon\\nfrom PyQt5.QtWidgets import QApplication, QLabel, QMainWindow, QPushButton, QToolBar, QAction, QCheckBox, QStatusBar\\nfrom PyQt5.QtCore import Qt, QSize\\nimport mymodules2\\n\\nclass MainWindow(QMainWindow):\\n\\n    def __init__(self, *args, **kwargs):\\n        super(MainWindow, self).__init__(*args, **kwargs)\\n\\n        self.setWindowTitle(&quot;My Awesome App&quot;)\\n\\n        label = QLabel(&quot;THIS IS AWESOME!!!&quot;)\\n        label.setAlignment(Qt.AlignCenter)\\n\\n        self.setCentralWidget(label)\\n\\n        toolbar = QToolBar(&quot;My main toolbar&quot;)\\n        toolbar.setIconSize(QSize(16,16))\\n        self.addToolBar(toolbar)\\n\\n        button_action = QAction(QIcon(&quot;bug.png&quot;), &quot;Your button&quot;, self)\\n        button_action.setStatusTip(&quot;This is your button&quot;)\\n        button_action.triggered.connect(self.onMyToolBarButtonClick)\\n        button_action.setCheckable(True)\\n        toolbar.addAction(button_action)\\n\\n\\n    def onMyToolBarButtonClick(self):\\n        &quot;&quot;&quot;\\n        This method import mymodules.py and execute MyPersonalMethod()\\n        &quot;&quot;&quot;\\n        mymodules2.MyPersonalMethod(&quot;https:\\/\\/google.com&quot;)\\n\\n        # I need this method above to display in label UI &quot;label&quot; any error message produced by the method\\n\\n\\n\\napp = QApplication(sys.argv)\\n\\nwindow = MainWindow()\\nwindow.show()\\n\\napp.exec_()\\n<\\/code><\\/pre>\\n<p>mymodules2.py<\\/p>\\n<pre><code>import webbrowser\\n\\ndef MyPersonalMethod(url):\\n    #DO 1 thing\\n    try:\\n        chrome_path = &quot;C:\\\\\\\\Program Files (x86)\\\\\\\\Google\\\\\\\\Chrome\\\\\\\\Application\\\\\\\\chrome.exe&quot;\\n        webbrowser.register('chrome', None, webbrowser.BackgroundBrowser(chrome_path))\\n        webbrowser.get('chrome').open_new_tab(url)\\n    except Exception as ex:\\n        print(f&quot;error : {ex}&quot;)\\n        #Here I would like to return the message error in the label of ui in order to display it immediately\\n\\n    # Do a second thing whatever happened before\\n    try:\\n        print(&quot;We suppose to have open google.com!?&quot;)\\n    except Exception as ex:\\n        print(f&quot;error : {ex}&quot;)\\n<\\/code><\\/pre>\",\"output_text\":\"<p>Simplest method would be to pass label to function:<\\/p>\\n<pre><code>button_action.triggered.connect(lambda:self.onMyToolBarButtonClick(label))\\n<\\/code><\\/pre>\\n<p>Change the triggered function:<\\/p>\\n<pre><code>def onMyToolBarButtonClick(self,label):\\n    mymodules2.MyPersonalMethod(&quot;https:\\/\\/google.com&quot;,label)\\n<\\/code><\\/pre>\\n<p>Finally use it in your module like this:<\\/p>\\n<pre><code>def MyPersonalMethod(url,label):\\n    try:\\n        print(&quot;Trying&quot;)\\n        label.setText(&quot;Success&quot;)\\n    except Exception as ex:\\n        print(f&quot;error : {ex}&quot;)\\n        label.setText(f&quot;error : {ex}&quot;)\\n<\\/code><\\/pre>\"}\n",
      "\n",
      "{\"input_text_instruct\":\"Please answer the following Stackoverflow question on Python. Answer it like you are a developer answering Stackoverflow questions.\\n\\nStackoverflow question:\\n Python how to realize sort with a customized encoding?<p>Say there is a simple list and <code>sorted<\\/code> then get following result:<\\/p>\\n\\n<pre><code>s=['university','university','college','school']\\nsorted(s)\\nOut[6]: ['college', 'school', 'university', 'university']\\n<\\/code><\\/pre>\\n\\n<p><code>sorted<\\/code> will sort the list according to the inner encoding(utf-8 may be). I want to set a customized encoding. In the aboving example, I want to set a encoding as :<code>['university','college','school']<\\/code>.I want sort  according to my customized encoding thus the result should be <code>sorted(s):['university','university','college','school']<\\/code>.<\\/p>\\n\\n<p>How can I realize it in Python?<\\/p>\",\"output_text\":\"<p>Given your example, you can use the <code>key<\\/code> parameter to pass a custom function that takes an element, performs a computation, and returns the value to sort.<\\/p>\\n\\n<p>In the case below, each element is looked up by index in the <code>order<\\/code> list. For example, <code>'college'<\\/code> returns <code>1<\\/code> and <code>'university'<\\/code> returns <code>0<\\/code>, so <code>'university'<\\/code> sorts before <code>'college'<\\/code>.<\\/p>\\n\\n<pre><code>order=['university','college','school']\\ns=['school','university','college','university']\\nprint(sorted(s,key=lambda n: order.index(n)))\\n<\\/code><\\/pre>\\n\\n<p>Output:<\\/p>\\n\\n<pre><code>['university', 'university', 'college', 'school']\\n<\\/code><\\/pre>\"}\n",
      "\n"
     ]
    }
   ],
   "source": [
    "with open(validation_data_filename, \"r\") as f:\n",
    "    lines = f.readlines()\n",
    "\n",
    "for line in lines[:5]:\n",
    "    print(line)\n"
   ]
  },
  {
   "cell_type": "code",
   "execution_count": null,
   "id": "6bfcff1c",
   "metadata": {},
   "outputs": [],
   "source": []
  }
 ],
 "metadata": {
  "kernelspec": {
   "display_name": "Python 3 (ipykernel)",
   "language": "python",
   "name": "python3"
  },
  "language_info": {
   "codemirror_mode": {
    "name": "ipython",
    "version": 3
   },
   "file_extension": ".py",
   "mimetype": "text/x-python",
   "name": "python",
   "nbconvert_exporter": "python",
   "pygments_lexer": "ipython3",
   "version": "3.11.4"
  }
 },
 "nbformat": 4,
 "nbformat_minor": 5
}
